{
 "cells": [
  {
   "cell_type": "markdown",
   "metadata": {},
   "source": [
    "# Свёрточные нейронные сети: Применение\n",
    "\n",
    "В данной лабораторной работы необходимо:\n",
    "\n",
    "- Реализовать вспомогательные функции для построения TensorFlow model\n",
    "- Построить ConvNet с использованием TensorFlow \n",
    "\n",
    "**Навыки, которые можно получить по результатом выполнения заданий:**\n",
    "\n",
    "- Построение и обучение ConvNet в TensorFlow для задачи классификации"
   ]
  },
  {
   "cell_type": "markdown",
   "metadata": {},
   "source": [
    "`Данный материал опирается и использует материалы курса Deep Learning от организации deeplearning.ai`\n",
    " \n",
    " Ссылка на основной курс (для желающих получить сертификаты): https://www.coursera.org/specializations/deep-learning"
   ]
  },
  {
   "cell_type": "markdown",
   "metadata": {},
   "source": [
    "## 1.0 - TensorFlow model"
   ]
  },
  {
   "cell_type": "code",
   "execution_count": 4,
   "metadata": {},
   "outputs": [],
   "source": [
    "import math\n",
    "import numpy as np\n",
    "import h5py\n",
    "import matplotlib.pyplot as plt\n",
    "import scipy\n",
    "from PIL import Image\n",
    "from scipy import ndimage\n",
    "import tensorflow as tf\n",
    "from tensorflow.python.framework import ops\n",
    "from cnn_utils import *\n",
    "\n",
    "%matplotlib inline\n",
    "np.random.seed(1)"
   ]
  },
  {
   "cell_type": "code",
   "execution_count": 5,
   "metadata": {},
   "outputs": [],
   "source": [
    "# Загрузка данных (signs)\n",
    "X_train_orig, Y_train_orig, X_test_orig, Y_test_orig, classes = load_dataset()"
   ]
  },
  {
   "cell_type": "markdown",
   "metadata": {},
   "source": [
    "Набор данных SIGNS представляет собой коллекцию из 6 знаков, представляющих числа от 0 до 5.\n",
    "\n",
    "<img src=\"images/SIGNS.png\" style=\"width:800px;height:300px;\">\n",
    "\n",
    "\n",
    "В следующей ячейке показан пример размечанного изображения в наборе данных. Можете изменить значение `index` ниже и повторить, чтобы увидеть различные примеры. "
   ]
  },
  {
   "cell_type": "code",
   "execution_count": 9,
   "metadata": {},
   "outputs": [
    {
     "name": "stdout",
     "output_type": "stream",
     "text": [
      "y = 2\n"
     ]
    },
    {
     "data": {
      "image/png": "[encoded data removed]",
      "text/plain": [
       "<Figure size 432x288 with 1 Axes>"
      ]
     },
     "metadata": {
      "needs_background": "light"
     },
     "output_type": "display_data"
    }
   ],
   "source": [
    "# Примеры изображений\n",
    "index = 2\n",
    "plt.imshow(X_train_orig[index])\n",
    "print (\"y = \" + str(np.squeeze(Y_train_orig[:, index])))"
   ]
  },
  {
   "cell_type": "code",
   "execution_count": 10,
   "metadata": {},
   "outputs": [
    {
     "name": "stdout",
     "output_type": "stream",
     "text": [
      "number of training examples = 1080\n",
      "number of test examples = 120\n",
      "X_train shape: (1080, 64, 64, 3)\n",
      "Y_train shape: (1080, 6)\n",
      "X_test shape: (120, 64, 64, 3)\n",
      "Y_test shape: (120, 6)\n"
     ]
    }
   ],
   "source": [
    "X_train = X_train_orig/255.\n",
    "X_test = X_test_orig/255.\n",
    "Y_train = convert_to_one_hot(Y_train_orig, 6).T\n",
    "Y_test = convert_to_one_hot(Y_test_orig, 6).T\n",
    "print (\"number of training examples = \" + str(X_train.shape[0]))\n",
    "print (\"number of test examples = \" + str(X_test.shape[0]))\n",
    "print (\"X_train shape: \" + str(X_train.shape))\n",
    "print (\"Y_train shape: \" + str(Y_train.shape))\n",
    "print (\"X_test shape: \" + str(X_test.shape))\n",
    "print (\"Y_test shape: \" + str(Y_test.shape))\n",
    "conv_layers = {}"
   ]
  },
  {
   "cell_type": "markdown",
   "metadata": {},
   "source": [
    "### 1.1 - Создание placeholders\n",
    "\n",
    "TensorFlow требует, чтобы вы создали placeholders для входных данных, которые будут подаваться в модель при запуске session.\n",
    "\n",
    "**Упражнение**: \n",
    "Реализуйте функцию, описанную ниже, для создания placeholders для входного изображения X и выходного Y. На данный момент не следует определять количество обучающих примеров. Для этого можно использовать \"None\" в качестве размера батча, это даст возможность выбора в дальнейшем. Следовательно, X должна быть размерностью **[None, n_H0, n_W0, n_C0]**, а Y должна быть размерностью **[None, n_y]**.  [Подсказка: почитать в документации tf.placeholder](https://www.tensorflow.org/api_docs/python/tf/placeholder)."
   ]
  },
  {
   "cell_type": "code",
   "execution_count": 11,
   "metadata": {},
   "outputs": [],
   "source": [
    "# ОЦЕНИВАЕМОЕ: create_placeholders\n",
    "\n",
    "def create_placeholders(n_H0, n_W0, n_C0, n_y):\n",
    "    \"\"\"\n",
    "    Создание placeholders для tensorflow session.\n",
    "    \n",
    "    Arguments:\n",
    "    n_H0 -- скаляр, высота (height) входного изображения\n",
    "    n_W0 -- скаляр, ширина (width) входного изображения\n",
    "    n_C0 -- скаляр, количество каналов\n",
    "    n_y -- скаляр, количество классов\n",
    "        \n",
    "    Returns:\n",
    "    X -- placeholder для входных данных, размер [None, n_H0, n_W0, n_C0] и dtype \"float\"\n",
    "    Y -- placeholder для входных меток, размер [None, n_y] и dtype \"float\"\n",
    "    \"\"\"\n",
    "\n",
    "    ### НАЧАЛО ВАШЕГО КОДА ЗДЕСЬ ### (≈2 строки кода)\n",
    "    X = None\n",
    "    Y = None\n",
    "    ### ОКОНЧАНИЕ ВАШЕГО КОДА ЗДЕСЬ ###\n",
    "    \n",
    "    return X, Y"
   ]
  },
  {
   "cell_type": "code",
   "execution_count": null,
   "metadata": {
    "collapsed": true
   },
   "outputs": [],
   "source": [
    "X, Y = create_placeholders(64, 64, 3, 6)\n",
    "print (\"X = \" + str(X))\n",
    "print (\"Y = \" + str(Y))"
   ]
  },
  {
   "cell_type": "markdown",
   "metadata": {},
   "source": [
    "**Ожидаемый выход**\n",
    "\n",
    "<table> \n",
    "<tr>\n",
    "<td>\n",
    "    X = Tensor(\"Placeholder:0\", shape=(?, 64, 64, 3), dtype=float32)\n",
    "\n",
    "</td>\n",
    "</tr>\n",
    "<tr>\n",
    "<td>\n",
    "    Y = Tensor(\"Placeholder_1:0\", shape=(?, 6), dtype=float32)\n",
    "\n",
    "</td>\n",
    "</tr>\n",
    "</table>"
   ]
  },
  {
   "cell_type": "markdown",
   "metadata": {},
   "source": [
    "### 1.2 - Инициализация параметров\n",
    "\n",
    "Необходимо инициализировать веса/фильтры $W1$ и $W2$, используя `tf.contrib.layers.xavier_initializer(seed = 0)`. Не нужно беспокоиться о переменных со смещением, так как функции TensorFlow позаботятся о смещении. Обратите также внимание, что необходимо инициализировать только веса/фильтры для функций conv2d. TensorFlow инициализирует слои для полностью подключенной части автоматически.\n",
    "\n",
    "**Упражнение:** Реализуйте функцию initialize_parameters(). Размеры для каждой группы фильтров приведены ниже. Напоминание - для инициализации параметра $W$ формы [1,2,3,4] в Tensorflow, используйте:\n",
    "```python\n",
    "W = tf.get_variable(\"W\", [1,2,3,4], initializer = ...)\n",
    "```\n",
    "#### tf.get_variable()\n",
    "[почитайте в документации tf.get_variable](https://www.tensorflow.org/api_docs/python/tf/get_variable). \n",
    "\n",
    "Необходимо использовать эту функцию для создания переменной tensorflow с указанным именем, но если переменные уже существуют, то она получит существующую переменную с таким же именем."
   ]
  },
  {
   "cell_type": "code",
   "execution_count": 12,
   "metadata": {},
   "outputs": [],
   "source": [
    "# ОЦЕНИВАЕМОЕ: initialize_parameters\n",
    "\n",
    "def initialize_parameters():\n",
    "    \"\"\"\n",
    "    Инициализация весов для построения нейронной сети в tensorflow. Размеры:\n",
    "                        W1 : [4, 4, 3, 8]\n",
    "                        W2 : [2, 2, 8, 16]\n",
    "    Returns:\n",
    "    parameters -- dictionary тензоров содержащий W1, W2\n",
    "    \"\"\"\n",
    "    \n",
    "    tf.set_random_seed(1)  \n",
    "        \n",
    "    ### НАЧАЛО ВАШЕГО КОДА ЗДЕСЬ ### (2 строки кода)\n",
    "    W1 = None\n",
    "    W2 = None\n",
    "    ### ОКОНЧАНИЕ ВАШЕГО КОДА ЗДЕСЬ ###\n",
    "\n",
    "    parameters = {\"W1\": W1,\n",
    "                  \"W2\": W2}\n",
    "    \n",
    "    return parameters"
   ]
  },
  {
   "cell_type": "code",
   "execution_count": null,
   "metadata": {
    "collapsed": true
   },
   "outputs": [],
   "source": [
    "tf.reset_default_graph()\n",
    "with tf.Session() as sess_test:\n",
    "    parameters = initialize_parameters()\n",
    "    init = tf.global_variables_initializer()\n",
    "    sess_test.run(init)\n",
    "    print(\"W1[1,1,1] = \\n\" + str(parameters[\"W1\"].eval()[1,1,1]))\n",
    "    print(\"W1.shape: \" + str(parameters[\"W1\"].shape))\n",
    "    print(\"\\n\")\n",
    "    print(\"W2[1,1,1] = \\n\" + str(parameters[\"W2\"].eval()[1,1,1]))\n",
    "    print(\"W2.shape: \" + str(parameters[\"W2\"].shape))"
   ]
  },
  {
   "cell_type": "markdown",
   "metadata": {},
   "source": [
    "** Ожидаемый выход:**\n",
    "\n",
    "```\n",
    "W1[1,1,1] = \n",
    "[ 0.00131723  0.14176141 -0.04434952  0.09197326  0.14984085 -0.03514394\n",
    " -0.06847463  0.05245192]\n",
    "W1.shape: (4, 4, 3, 8)\n",
    "\n",
    "\n",
    "W2[1,1,1] = \n",
    "[-0.08566415  0.17750949  0.11974221  0.16773748 -0.0830943  -0.08058\n",
    " -0.00577033 -0.14643836  0.24162132 -0.05857408 -0.19055021  0.1345228\n",
    " -0.22779644 -0.1601823  -0.16117483 -0.10286498]\n",
    "W2.shape: (2, 2, 8, 16)\n",
    "```"
   ]
  },
  {
   "cell_type": "markdown",
   "metadata": {},
   "source": [
    "### 1.3 - Прямое распространение\n",
    "\n",
    "В TensorFlow, есть встроенные функции, которые реализуют шаги свертки для вас.\n",
    "\n",
    "- **tf.nn.conv2d(X,W, strides = [1,s,s,1], padding = 'SAME'):** на входеt $X$ и группа фильтров $W$, это свёртка $W$ фильтров с X. Третий параметр ([1,s,s,1]) представляет собой шаги для каждого измерения входа (m, n_H_prev, n_W_prev, n_C_prev). Обычно для количества примеров (первое значение) и для каналов (четвертое значение) выбирается шаг 1, поэтому значение записано как `[1,s,s,1]`. Можно прочитать полную документацию по [conv2d](https://www.tensorflow.org/api_docs/python/tf/nn/conv2d).\n",
    "\n",
    "- **tf.nn.max_pool(A, ksize = [1,f,f,1], strides = [1,s,s,1], padding = 'SAME'):** при вводе значения A эта функция использует окно размера (f, f) и шаги размера (s, s) для выполнения максимального объединения над каждым окном.  Для максимального объединения, как правило, работают с одним примером за раз и на одном канале за раз.  Так что первое и четвертое значение в `[1,f,f,1]` - это и то, и другое. Можно прочитать полную документацию на тему [max_pool](https://www.tensorflow.org/api_docs/python/tf/nn/max_pool).\n",
    "\n",
    "- **tf.nn.relu(Z):** вычисляет поэлементный ReLU по Z (который может быть любой формы). Можно прочитать полную документацию на тему [relu](https://www.tensorflow.org/api_docs/python/tf/nn/relu).\n",
    "\n",
    "- **tf.contrib.layers.flatten(P)**: при тензоре \"P\" эта функция берет каждый пример из обучения (или теста) в выборке и сплющивает его в 1D вектор.  \n",
    "    * Если тензор P имеет форму (m,h,w,c), где m - количество примеров (размер выборки), то он возвращает сплющенный тензор с формой (batch_size, k), где $k=h \\times w \\times c$. \"k\" равно произведению всех размеров, отличных от первого.\n",
    "    * Например, при наличии тензора с размерами [100,2,3,4], он уплотняет тензор до формы [100, 24], где 24 = 2 * 3 * 4. Полную документацию можно прочитать на [flatten](https://www.tensorflow.org/api_docs/python/tf/contrib/layers/flatten).\n",
    "\n",
    "- **tf.contrib.layers.fully_connected(F, num_outputs):** учитывая сплющенный вход F, он возвращает выход, рассчитанный с помощью полносвязного слоя. Полную документацию можно прочитать на [full_connected](https://www.tensorflow.org/api_docs/python/tf/contrib/layers/fully_connected).\n",
    "\n",
    "\n",
    "В последней функции выше (`tf.contrib.layers.full_connected`), полностью подключенный слой автоматически инициализирует веса и продолжает их тренировать по мере того, как вы тренируете модель. Следовательно, вам не нужно было инициализировать эти веса при инициализации параметров.\n",
    "\n",
    "#### Window, kernel, filter\n",
    "Слова \"window\", \"kernel\" и \"filter\" используются для обозначения одного и того же понятия.  Поэтому параметр `ksize` относится к \"kernel size\", используется `(f,f)` для обозначения размера \"filter\".  И \"kernel\", и \"filter\" относятся к \"window\"."
   ]
  },
  {
   "cell_type": "markdown",
   "metadata": {},
   "source": [
    "**Упражнение**\n",
    "Реализуйте `forward_propagation`: `CONV2D -> RELU -> MAXPOOL -> CONV2D -> RELU -> MAXPOOL -> FLATTEN -> FULLYCONNECTED`. \n",
    "\n",
    "Подробно мы будем использовать следующие параметры для всех шагов:\n",
    " - Conv2D: stride 1, padding - \"SAME\"\n",
    " - ReLU\n",
    " - Max pool: 8 на 8 \"filter\" size и 8 на 8 stride, padding - \"SAME\"\n",
    " - Conv2D: stride 1, padding - \"SAME\"\n",
    " - ReLU\n",
    " - Max pool: 4 на 4 \"filter\" size и 4 на 4 stride, padding - \"SAME\"\n",
    " - Flatten по предыдущему выходу.\n",
    " - FULLYCONNECTED (FC) слой: Необходимо сделать полносвязнный слой без функции нелинейной активации. Не вызывайте softmax здесь. В результате в выходном слое будет 6 нейронов, которые затем будут переданы в softmax. В TensorFlow функции softmax и стоимости объединяются в одну функцию, которую вы будете вызывать при вычислении стоимости."
   ]
  },
  {
   "cell_type": "code",
   "execution_count": 13,
   "metadata": {},
   "outputs": [],
   "source": [
    "# ОЦЕНИВАЕМОЕ: forward_propagation\n",
    "\n",
    "def forward_propagation(X, parameters):\n",
    "    \"\"\"\n",
    "    Прямое распространение для модели:\n",
    "    CONV2D -> RELU -> MAXPOOL -> CONV2D -> RELU -> MAXPOOL -> FLATTEN -> FULLYCONNECTED\n",
    "    \n",
    "    Arguments:\n",
    "    X -- входной датасет из placeholder, размером (input size, number of examples)\n",
    "    parameters -- python dictionary с параметрами \"W1\", \"W2\", получаемые из функции initialize_parameters\n",
    "\n",
    "    Returns:\n",
    "    Z3 -- выход последнего LINEAR нейрона, без функции активации\n",
    "    \"\"\"\n",
    "    \n",
    "    # Извлечение параметров из \"parameters\" \n",
    "    W1 = parameters['W1']\n",
    "    W2 = parameters['W2']\n",
    "    \n",
    "    ### НАЧАЛО ВАШЕГО КОДА ЗДЕСЬ ###\n",
    "    # CONV2D: stride = 1, padding 'SAME'\n",
    "    Z1 = None\n",
    "    # RELU\n",
    "    A1 = None\n",
    "    # MAXPOOL: window 8x8, stride 8, padding 'SAME'\n",
    "    P1 = None\n",
    "    # CONV2D: filters W2, stride 1, padding 'SAME'\n",
    "    Z2 = None\n",
    "    # RELU\n",
    "    A2 = None\n",
    "    # MAXPOOL: window 4x4, stride 4, padding 'SAME'\n",
    "    P2 = None\n",
    "    # FLATTEN\n",
    "    F = None\n",
    "    # FULLY-CONNECTED без non-linear функции активации (не нужно вызывать softmax).\n",
    "    # 6 нейронов в выходном слое. Подсказка: один аргумент должен быть \"activation_fn=None\" \n",
    "    Z3 = None\n",
    "    ### ОКОНЧАНИЕ ВАШЕГО КОДА ЗДЕСЬ ###\n",
    "\n",
    "    return Z3"
   ]
  },
  {
   "cell_type": "code",
   "execution_count": null,
   "metadata": {
    "collapsed": true
   },
   "outputs": [],
   "source": [
    "tf.reset_default_graph()\n",
    "\n",
    "with tf.Session() as sess:\n",
    "    np.random.seed(1)\n",
    "    X, Y = create_placeholders(64, 64, 3, 6)\n",
    "    parameters = initialize_parameters()\n",
    "    Z3 = forward_propagation(X, parameters)\n",
    "    init = tf.global_variables_initializer()\n",
    "    sess.run(init)\n",
    "    a = sess.run(Z3, {X: np.random.randn(2,64,64,3), Y: np.random.randn(2,6)})\n",
    "    print(\"Z3 = \\n\" + str(a))"
   ]
  },
  {
   "cell_type": "markdown",
   "metadata": {},
   "source": [
    "**Ожидаемый выход**:\n",
    "\n",
    "```\n",
    "Z3 = \n",
    "[[-0.44670227 -1.57208765 -1.53049231 -2.31013036 -1.29104376  0.46852064]\n",
    " [-0.17601591 -1.57972014 -1.4737016  -2.61672091 -1.00810647  0.5747785 ]]\n",
    "```"
   ]
  },
  {
   "cell_type": "markdown",
   "metadata": {},
   "source": [
    "### 1.4 - Вычисление потерь\n",
    "\n",
    "\n",
    "Выполните функцию расчета затрат, описанную ниже. Помните, что функция затрат помогает нейронной сети увидеть, насколько предсказания модели отличаются от правильных меток.  Регулируя веса сети для снижения потерь, нейронная сеть может улучшить свои предсказания.\n",
    "\n",
    "Можно использовать две вспомогательные функции: \n",
    "\n",
    "- **tf.nn.softmax_cross_entropy_with_logits(logits = Z, labels = Y):** вычисляет softmax entropy loss. Эта функция рассчитывает как функцию активации softmax, так и результирующие потерю. Полную документацию можно прочитать на [softmax_cross_entropy_with_logits](https://www.tensorflow.org/api_docs/python/tf/nn/softmax_cross_entropy_with_logits).\n",
    "- **tf.reduce_mean:** вычисляет среднее значение элементов по размерам тензора. Используйте его для расчета суммы потерь по всем примерам, чтобы получить общую стоимость. Полную документацию можно прочитать на [reduce_mean](https://www.tensorflow.org/api_docs/python/tf/reduce_mean).\n",
    "\n",
    "#### Детально о softmax_cross_entropy_with_logits\n",
    "* Softmax используется для форматирования выходных данных, чтобы их можно было использовать для классификации.  Он присваивает значение между 0 и 1 для каждой категории, где сумма всех прогнозируемых значений (по всем возможным категориям) равна 1.\n",
    "* Cross Entropy сравнивает предсказанные классификации модели с фактическими метками и приводит к числовому значению, представляющему \"потерю\" предсказаний модели.\n",
    "* \"Logits\" - это результат умножения весов и добавления смещений.  \"Logits\" передаются через функцию активации (например, relu), а результат называется \"активация\".\n",
    "* Функция называется `softmax_cross_entropy_with_logits` принимает на вход \"Logits\" (а не активации); затем использует модель для предсказания с помощью Softmax, а затем сравнивает предсказания с истинными метками с помощью Cross Entropy.  Это делается с помощью одной функции для оптимизации вычислений.\n",
    "\n",
    "**Упражнение**: Вычислите потери в функции ниже."
   ]
  },
  {
   "cell_type": "code",
   "execution_count": 14,
   "metadata": {},
   "outputs": [],
   "source": [
    "# ОЦЕНИВАЕМОЕ: compute_cost \n",
    "\n",
    "def compute_cost(Z3, Y):\n",
    "    \"\"\"\n",
    "    Вычисление потерь\n",
    "    \n",
    "    Arguments:\n",
    "    Z3 -- выход с прямого распространения (LINEAR unit), размер (number of examples, 6)\n",
    "    Y -- \"true\" вектор меток placeholder, такого же размера как и Z3\n",
    "    \n",
    "    Returns:\n",
    "    cost - Tensor функции потерь\n",
    "    \"\"\"\n",
    "    \n",
    "    ### НАЧАЛО ВАШЕГО КОДА ЗДЕСЬ ### (1 строка кода)\n",
    "    cost = None\n",
    "    ### ОКОНЧАНИЕ ВАШЕГО КОДА ЗДЕСЬ ###\n",
    "    \n",
    "    return cost"
   ]
  },
  {
   "cell_type": "code",
   "execution_count": null,
   "metadata": {
    "collapsed": true
   },
   "outputs": [],
   "source": [
    "tf.reset_default_graph()\n",
    "\n",
    "with tf.Session() as sess:\n",
    "    np.random.seed(1)\n",
    "    X, Y = create_placeholders(64, 64, 3, 6)\n",
    "    parameters = initialize_parameters()\n",
    "    Z3 = forward_propagation(X, parameters)\n",
    "    cost = compute_cost(Z3, Y)\n",
    "    init = tf.global_variables_initializer()\n",
    "    sess.run(init)\n",
    "    a = sess.run(cost, {X: np.random.randn(4,64,64,3), Y: np.random.randn(4,6)})\n",
    "    print(\"cost = \" + str(a))"
   ]
  },
  {
   "cell_type": "markdown",
   "metadata": {},
   "source": [
    "**Ожидаемый выход**: \n",
    "```\n",
    "cost = 2.91034\n",
    "```"
   ]
  },
  {
   "cell_type": "markdown",
   "metadata": {},
   "source": [
    "## 1.5 Модель \n",
    "\n",
    "Наконец, необходимо объеденить вспомогательные функции, которые реализовали ранее, чтобы построить модель. Необходимо будет обучать ее на наборе данных SIGNS. \n",
    "\n",
    "**Упражнение**: Выполните функцию ниже \n",
    "\n",
    "В моделе ниже должны использоваться:\n",
    "\n",
    "- create placeholders\n",
    "- initialize parameters\n",
    "- forward propagate\n",
    "- compute the cost\n",
    "- create an optimizer\n",
    "\n",
    "Наконец, необходимо создать session и запустите for-loop для каждой эпохи из num_epochs, получите мини-пакеты, а затем для каждой мини-пакеты оптимизируете функцию. [Hint for initializing the variables](https://www.tensorflow.org/api_docs/python/tf/global_variables_initializer)"
   ]
  },
  {
   "cell_type": "markdown",
   "metadata": {},
   "source": [
    "#### Adam Optimizer\n",
    "Можно использовать `tf.train.AdamOptimizer(learning_rate = ...)` в качества оптимизатора.  Optimizer -`minimize(loss=...)` функция, которая будет вызываться для установки функции затрат, которую оптимизатор будет минимизировать.\n",
    "Полную документацию можно прочитать на [Adam Optimizer](https://www.tensorflow.org/api_docs/python/tf/train/AdamOptimizer)"
   ]
  },
  {
   "cell_type": "markdown",
   "metadata": {},
   "source": [
    "#### Случайные mini-batches\n",
    "```Python\n",
    "minibatches = random_mini_batches(X, Y, mini_batch_size = 64, seed = 0)\n",
    "```"
   ]
  },
  {
   "cell_type": "markdown",
   "metadata": {},
   "source": [
    "#### Оценка работы оптимизатора и потерь\n",
    "\n",
    "В цикле, для каждой mini-batch необходимо использовать объект `tf.Session` (по имени `sess`) для подачи mini-batch входов и меток в нейронную сеть и оценки тензоров для оптимизатора, а также стоимости.  Помните, что ранее было построена структура данных в виде графа и на вход которого должны подаваться входы и метки, а также использоваться `sess.run()`.\n",
    "\n",
    "Синтаксис:\n",
    "```\n",
    "output_for_var1, output_for_var2 = sess.run(\n",
    "                                                fetches=[var1, var2],\n",
    "                                                feed_dict={var_inputs: the_batch_of_inputs,\n",
    "                                                           var_labels: the_batch_of_labels}\n",
    "                                                )\n",
    "```\n",
    "\n",
    "* Обратите внимание, что `sess.run` принимает свой первый аргумент `fetches` как список объектов, которые вы хотите, чтобы он оценивал (в данном случае, мы хотим оценить оптимизатор и стоимость).  \n",
    "* Он также берет словарь для параметра `feed_dict`.  \n",
    "* Ключами являются переменные `tf.placeholder`, которые мы создали в функции `create_placeholders` выше.  \n",
    "* Значения - это переменные, содержащие действительные нумерованные массивы для каждой мини-группы.  \n",
    "* sess.run выводит кортеж оцениваемых тензоров в том же порядке, что и список, заданный для `fetches`.\n",
    "\n",
    "Полную документацию можно прочитать на [tf.Sesssion#run](https://www.tensorflow.org/api_docs/python/tf/Session#run)."
   ]
  },
  {
   "cell_type": "code",
   "execution_count": 16,
   "metadata": {},
   "outputs": [],
   "source": [
    "# ОЦЕНИВАЕМОЕ: model\n",
    "\n",
    "def model(X_train, Y_train, X_test, Y_test, learning_rate = 0.009,\n",
    "          num_epochs = 100, minibatch_size = 64, print_cost = True):\n",
    "    \"\"\"\n",
    "    Реализация трёх-слойной ConvNet в Tensorflow:\n",
    "    CONV2D -> RELU -> MAXPOOL -> CONV2D -> RELU -> MAXPOOL -> FLATTEN -> FULLYCONNECTED\n",
    "    \n",
    "    Arguments:\n",
    "    X_train -- обучающая выборка примеров, рамер (None, 64, 64, 3)\n",
    "    Y_train -- обучающая выборка меток, рамер (None, n_y = 6)\n",
    "    X_test -- тестовая выборка примеров, рамер (None, 64, 64, 3)\n",
    "    Y_test -- тестовая выборка меток, рамер (None, n_y = 6)\n",
    "    learning_rate -- скорость градиентного спуска\n",
    "    num_epochs -- количество эпох\n",
    "    minibatch_size -- размер minibatch\n",
    "    print_cost -- True для печати каждые 100 эпох\n",
    "    \n",
    "    Returns:\n",
    "    train_accuracy -- действительное число, точность на обучающей выборке (X_train)\n",
    "    test_accuracy -- действительное число, точность на тестовой выборке (X_test)\n",
    "    parameters -- обученные параметры модели, которые будут использоваться для предсказания\n",
    "    \"\"\"\n",
    "    \n",
    "    ops.reset_default_graph()  \n",
    "    tf.set_random_seed(1)  \n",
    "    seed = 3    \n",
    "    (m, n_H0, n_W0, n_C0) = X_train.shape             \n",
    "    n_y = Y_train.shape[1]                            \n",
    "    costs = []  \n",
    "    \n",
    "    # Сооздание Placeholders с корректным размером\n",
    "    ### НАЧАЛО ВАШЕГО КОДА ЗДЕСЬ ### (1 строка кода)\n",
    "    X, Y = None\n",
    "    ### ОКОНЧАНИЕ ВАШЕГО КОДА ЗДЕСЬ ###\n",
    "\n",
    "    # Инициализация параметров\n",
    "    ### НАЧАЛО ВАШЕГО КОДА ЗДЕСЬ ### (1 строка кода)\n",
    "    parameters = None\n",
    "    ### ОКОНЧАНИЕ ВАШЕГО КОДА ЗДЕСЬ ###\n",
    "    \n",
    "    # Прямое распространение: Построение с использованием tensorflow graph\n",
    "    ### НАЧАЛО ВАШЕГО КОДА ЗДЕСЬ ### (1 строка кода)\n",
    "    Z3 = None\n",
    "    ### ОКОНЧАНИЕ ВАШЕГО КОДА ЗДЕСЬ ###\n",
    "    \n",
    "    # Функция потерь: Добавление функции потерь в tensorflow graph\n",
    "    ### НАЧАЛО ВАШЕГО КОДА ЗДЕСЬ ### (1 строка кода)\n",
    "    cost = None\n",
    "    ### ОКОНЧАНИЕ ВАШЕГО КОДА ЗДЕСЬ ###\n",
    "    \n",
    "    # Обратное распространение: Определение tensorflow optimizer. Используется AdamOptimizer для минимизации потерь.\n",
    "    ### НАЧАЛО ВАШЕГО КОДА ЗДЕСЬ ### (1 строка кода)\n",
    "    optimizer = None\n",
    "    ### ОКОНЧАНИЕ ВАШЕГО КОДА ЗДЕСЬ ###\n",
    "    \n",
    "    # Инициализация всех глобавльных переменных\n",
    "    init = tf.global_variables_initializer()\n",
    "     \n",
    "    # Начало session для вычисления tensorflow graph\n",
    "    with tf.Session() as sess:\n",
    "        \n",
    "        # Инициализация\n",
    "        sess.run(init)\n",
    "        \n",
    "        # Эпохи обучения\n",
    "        for epoch in range(num_epochs):\n",
    "\n",
    "            minibatch_cost = 0.\n",
    "            num_minibatches = int(m / minibatch_size) # количество minibatches к размеру minibatch_size в обучающем наборе\n",
    "            seed = seed + 1\n",
    "            minibatches = random_mini_batches(X_train, Y_train, minibatch_size, seed)\n",
    "\n",
    "            for minibatch in minibatches:\n",
    "\n",
    "                # Выбор minibatch\n",
    "                (minibatch_X, minibatch_Y) = minibatch\n",
    "                \"\"\"\n",
    "                # Строка, которая управляет графом на minibatch.\n",
    "                # Запуск session расчёт optimizer и cost.\n",
    "                # feedict должен содержать minibatch для (X,Y).\n",
    "                \"\"\"\n",
    "                ### НАЧАЛО ВАШЕГО КОДА ЗДЕСЬ ### (1 строка кода)\n",
    "                _ , temp_cost = None\n",
    "                ### ОКОНЧАНИЕ ВАШЕГО КОДА ЗДЕСЬ ###\n",
    "                \n",
    "                minibatch_cost += temp_cost / num_minibatches\n",
    "                \n",
    "\n",
    "            # Вывод каждые 100 эпох\n",
    "            if print_cost == True and epoch % 5 == 0:\n",
    "                print (\"Cost after epoch %i: %f\" % (epoch, minibatch_cost))\n",
    "            if print_cost == True and epoch % 1 == 0:\n",
    "                costs.append(minibatch_cost)\n",
    "        \n",
    "        \n",
    "        # Отрисовка графика потерь\n",
    "        plt.plot(np.squeeze(costs))\n",
    "        plt.ylabel('cost')\n",
    "        plt.xlabel('iterations (per tens)')\n",
    "        plt.title(\"Learning rate =\" + str(learning_rate))\n",
    "        plt.show()\n",
    "\n",
    "        # Вычисление корректных предсказаний\n",
    "        predict_op = tf.argmax(Z3, 1)\n",
    "        correct_prediction = tf.equal(predict_op, tf.argmax(Y, 1))\n",
    "        \n",
    "        # Вычисление точности\n",
    "        accuracy = tf.reduce_mean(tf.cast(correct_prediction, \"float\"))\n",
    "        print(accuracy)\n",
    "        train_accuracy = accuracy.eval({X: X_train, Y: Y_train})\n",
    "        test_accuracy = accuracy.eval({X: X_test, Y: Y_test})\n",
    "        print(\"Train Accuracy:\", train_accuracy)\n",
    "        print(\"Test Accuracy:\", test_accuracy)\n",
    "                \n",
    "        return train_accuracy, test_accuracy, parameters"
   ]
  },
  {
   "cell_type": "markdown",
   "metadata": {},
   "source": [
    "Запустите следующую ячейку, чтобы обучить вашу модель 100 эпохам. Проверьте, соответствует ли Ваша стоимость после эпохи 0 и 5, той, которая в таблице ниже. Если нет, остановите ячейку и вернитесь к коду!"
   ]
  },
  {
   "cell_type": "code",
   "execution_count": null,
   "metadata": {
    "collapsed": true
   },
   "outputs": [],
   "source": [
    "_, _, parameters = model(X_train, Y_train, X_test, Y_test)"
   ]
  },
  {
   "cell_type": "markdown",
   "metadata": {},
   "source": [
    "**Ожидаемый выход**:\n",
    "<table> \n",
    "<tr>\n",
    "    <td> \n",
    "    **Cost after epoch 0 =**\n",
    "    </td>\n",
    "    <td> \n",
    "      1.917929\n",
    "    </td> \n",
    "</tr>\n",
    "<tr>\n",
    "    <td> \n",
    "    **Cost after epoch 5 =**\n",
    "    </td>\n",
    "    <td> \n",
    "      1.506757\n",
    "    </td> \n",
    "</tr>\n",
    "<tr>\n",
    "    <td> \n",
    "    **Train Accuracy   =**\n",
    "    </td>\n",
    "    <td> \n",
    "      0.940741\n",
    "    </td> \n",
    "</tr> \n",
    "\n",
    "<tr>\n",
    "    <td> \n",
    "    **Test Accuracy   =**\n",
    "    </td>\n",
    "    <td> \n",
    "      0.783333\n",
    "    </td> \n",
    "</tr> \n",
    "</table>"
   ]
  },
  {
   "cell_type": "code",
   "execution_count": null,
   "metadata": {
    "collapsed": true
   },
   "outputs": [],
   "source": [
    "fname = \"images/thumbs_up.jpg\"\n",
    "image = np.array(ndimage.imread(fname, flatten=False))\n",
    "my_image = scipy.misc.imresize(image, size=(64,64))\n",
    "plt.imshow(my_image)"
   ]
  }
 ],
 "metadata": {
  "coursera": {
   "course_slug": "convolutional-neural-networks",
   "graded_item_id": "bwbJV",
   "launcher_item_id": "0TkXB"
  },
  "kernelspec": {
   "display_name": "Python 3",
   "language": "python",
   "name": "python3"
  },
  "language_info": {
   "codemirror_mode": {
    "name": "ipython",
    "version": 3
   },
   "file_extension": ".py",
   "mimetype": "text/x-python",
   "name": "python",
   "nbconvert_exporter": "python",
   "pygments_lexer": "ipython3",
   "version": "3.7.4"
  }
 },
 "nbformat": 4,
 "nbformat_minor": 2
}
