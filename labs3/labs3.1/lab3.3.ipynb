{
 "cells": [
  {
   "cell_type": "markdown",
   "metadata": {},
   "source": [
    "# Keras tutorial - Распознавание эмоций на изображениях лиц\n",
    "\n",
    "В рамках данной лабораторной работы:\n",
    "1. Изучите Keras, высокоуровневый API для нейронных сетей (programming framework), написанный на Python и способный работать поверх нескольких низкоуровневых фреймворков, включая TensorFlow и CNTK. \n",
    "2. Построите алгоритм глубокого обучения.\n",
    "\n",
    "#### Зачем использовать Keras? \n",
    "\n",
    "* Keras был разработан инженрами и специалистами в области глубокого обучения для быстрого построения моделей\n",
    "* TensorFlow является фреймворком высокого уровня, Keras является более высокоуровневым фреймворком и предоставляет дополнительные абстракции. \n",
    "* Способность перейти от идеи к результату с наименьшей возможной задержкой является ключом к поиску хороших моделей. \n",
    "* Однако Keras является более ограничительным, чем фреймворки более низкого уровня, поэтому есть некоторые очень сложные модели, которые вы все равно будете реализовывать в TensorFlow , а не в Keras. \n",
    "* Тем не менее, Keras будет отлично работать для многих распространенных моделей."
   ]
  },
  {
   "cell_type": "markdown",
   "metadata": {},
   "source": [
    "`Данный материал опирается и использует материалы курса Deep Learning от организации deeplearning.ai`\n",
    " \n",
    " Ссылка на основной курс (для желающих получить сертификаты): https://www.coursera.org/specializations/deep-learning"
   ]
  },
  {
   "cell_type": "markdown",
   "metadata": {},
   "source": [
    "## 1 - Пакеты/Библиотеки\n",
    "\n",
    "Первоначально необходимо запустить ячейку ниже, чтобы импортировать все пакеты, которые вам понадобятся во время лабораторной работы."
   ]
  },
  {
   "cell_type": "code",
   "execution_count": null,
   "metadata": {},
   "outputs": [],
   "source": [
    "import numpy as np\n",
    "from keras import layers\n",
    "from keras.layers import Input, Dense, Activation, ZeroPadding2D, BatchNormalization, Flatten, Conv2D\n",
    "from keras.layers import AveragePooling2D, MaxPooling2D, Dropout, GlobalMaxPooling2D, GlobalAveragePooling2D\n",
    "from keras.models import Model\n",
    "from keras.preprocessing import image\n",
    "from keras.utils import layer_utils\n",
    "from keras.utils.data_utils import get_file\n",
    "from keras.applications.imagenet_utils import preprocess_input\n",
    "import pydot\n",
    "from IPython.display import SVG\n",
    "from keras.utils.vis_utils import model_to_dot\n",
    "from keras.utils import plot_model\n",
    "from kt_utils import *\n",
    "\n",
    "import keras.backend as K\n",
    "K.set_image_data_format('channels_last')\n",
    "import matplotlib.pyplot as plt\n",
    "from matplotlib.pyplot import imshow\n",
    "\n",
    "%matplotlib inline"
   ]
  },
  {
   "cell_type": "markdown",
   "metadata": {},
   "source": [
    "**Заметка**: Мы ранее импортировали множество функций из Keras, которые можно использовать в своём коде. \n",
    "Например `X = Input(... )` или `X = Zeropadding2n(... )`. \n",
    "\n",
    "Другими словами, в отличие от TensorFlow, нет необходимости создавать граф, а затем делать отдельный `sess.run()` для вычисления этих переменных."
   ]
  },
  {
   "cell_type": "markdown",
   "metadata": {},
   "source": [
    "## 1 - Отслеживание эмоций\n",
    "\n",
    "* Необходимо создать приложение, которое классифицирует эмоции человека на \"happy\" и \"not happy\".\n",
    "\n",
    "Пример датасета на изображениие:\n",
    "<img src=\"images/face_images.png\" style=\"width:550px;height:250px;\">"
   ]
  },
  {
   "cell_type": "code",
   "execution_count": null,
   "metadata": {},
   "outputs": [],
   "source": [
    "X_train_orig, Y_train_orig, X_test_orig, Y_test_orig, classes = load_dataset()\n",
    "\n",
    "# Нормализация\n",
    "X_train = X_train_orig/255.\n",
    "X_test = X_test_orig/255.\n",
    "\n",
    "# Reshape\n",
    "Y_train = Y_train_orig.T\n",
    "Y_test = Y_test_orig.T\n",
    "\n",
    "print (\"number of training examples = \" + str(X_train.shape[0]))\n",
    "print (\"number of test examples = \" + str(X_test.shape[0]))\n",
    "print (\"X_train shape: \" + str(X_train.shape))\n",
    "print (\"Y_train shape: \" + str(Y_train.shape))\n",
    "print (\"X_test shape: \" + str(X_test.shape))\n",
    "print (\"Y_test shape: \" + str(Y_test.shape))"
   ]
  },
  {
   "cell_type": "markdown",
   "metadata": {},
   "source": [
    "## 2 - Построение модели в Keras\n",
    "\n",
    "В Keras можно быстро делать прототип моделей, вот пример одной из них:\n",
    "```python\n",
    "def model(input_shape):\n",
    "    \"\"\"\n",
    "    input_shape:  (height, width, channels) - tuple.  \n",
    "    \"\"\"\n",
    "    \n",
    "    # Определение входной tensor с размером input_shape (размер изображения).\n",
    "    X_input = Input(input_shape)\n",
    "\n",
    "    # Zero-Padding: заполнение X_input нулями по краям изображения\n",
    "    X = ZeroPadding2D((3, 3))(X_input)\n",
    "\n",
    "    # CONV -> BN -> RELU\n",
    "    X = Conv2D(32, (7, 7), strides = (1, 1), name = 'conv0')(X)\n",
    "    X = BatchNormalization(axis = 3, name = 'bn0')(X)\n",
    "    X = Activation('relu')(X)\n",
    "\n",
    "    # MAXPOOL\n",
    "    X = MaxPooling2D((2, 2), name='max_pool')(X)\n",
    "\n",
    "    # FLATTEN X (конвертирование в вектор) + FULLYCONNECTED\n",
    "    X = Flatten()(X)\n",
    "    X = Dense(1, activation='sigmoid', name='fc')(X)\n",
    "\n",
    "    # Создание экземпляра модели Keras, вы будете использовать этот экземпляр для обучения тестирования модели.\n",
    "    model = Model(inputs = X_input, outputs = X, name='HappyModel')\n",
    "    \n",
    "    return model\n",
    "```"
   ]
  },
  {
   "cell_type": "markdown",
   "metadata": {},
   "source": [
    "#### Наименование переменных\n",
    "\n",
    "* Note that Keras uses a different convention with variable names than we've previously used with numpy and TensorFlow. \n",
    "* Instead of creating unique variable names for each step and each layer, such as \n",
    "* Обратите внимание, что Keras использует другое соглашение с именами переменных, чем ранее использовался с numpy и TensorFlow. \n",
    "* Вместо создания уникальных имен переменных для каждого шага и каждого слоя, таких как\n",
    "```\n",
    "X = ...\n",
    "Z1 = ...\n",
    "A1 = ...\n",
    "```\n",
    "* Keras перезаписывает переменную на каждом шаге:\n",
    "```\n",
    "X = ...\n",
    "X = ...\n",
    "X = ...\n",
    "```\n",
    "* Исключение составляет `X_input`, который необходимо держать отдельно, так как он используется позже."
   ]
  },
  {
   "cell_type": "markdown",
   "metadata": {},
   "source": [
    "#### Объекты, как функции\n",
    "* Обратите внимание, что в каждом операторе есть две пары скобок. Например:\n",
    "```\n",
    "X = ZeroPadding2D((3, 3))(X_input)\n",
    "```\n",
    "* Первая - это вызов конструктора, который создает объект (ZeroPadding2D).\n",
    "* В Python объекты могут быть вызваны как функции. Более подробно об этом можно прочитать в блоге:[Python Pandemonium](https://medium.com/python-pandemonium/function-as-objects-in-python-d5215e6d1b0d).\n",
    "```\n",
    "ZP = ZeroPadding2D((3, 3)) # ZP, который вызывается как функция\n",
    "X = ZP(X_input) \n",
    "```"
   ]
  },
  {
   "cell_type": "markdown",
   "metadata": {},
   "source": [
    "**Упражнение**: Реализовать функцию `HappyModel()`.  \n",
    "* Начните с реализации модели, используя предложенную архитектуру, и выполните оставшуюся часть этого задания, используя ее в качестве исходной модели. \n",
    "* Позже вернитесь и попробуйте другие архитектуры. \n",
    "* Например, можете черпать вдохновение из приведенной выше модели, но затем изменять сетевую архитектуру и гиперпараметры по своему усмотрению.\n",
    "* Можно использовать также другие функции активации `AveragePooling2D()`, `GlobalMaxPooling2D()`, `Dropout()`. "
   ]
  },
  {
   "cell_type": "code",
   "execution_count": null,
   "metadata": {},
   "outputs": [],
   "source": [
    "# GRADED FUNCTION: HappyModel\n",
    "\n",
    "def HappyModel(input_shape):\n",
    "    \"\"\"\n",
    "    Реализация HappyModel.\n",
    "    \n",
    "    Arguments:\n",
    "    input_shape -- размер изображений и входного датасета\n",
    "        (height, width, channels) - tuple.  \n",
    "    Returns:\n",
    "        model -- Model() объект Keras\n",
    "\n",
    "\n",
    "    \"\"\"\n",
    "    \n",
    "    ### НАЧАЛО ВАШЕГО КОДА ###\n",
    "    \n",
    "    \n",
    "    ### КОНЕЦ ВАШЕГО КОДА ###\n",
    "    \n",
    "    return model"
   ]
  },
  {
   "cell_type": "markdown",
   "metadata": {},
   "source": [
    "You have now built a function to describe your model. To train and test this model, there are four steps in Keras:\n",
    "После построения самой модели необходимо её обучить и протестировать. Необходимо сделать четыре шага:\n",
    "1. Создать модель, вызвав функцию выше  \n",
    "\n",
    "2. Скомпилировать модель, вызвав - `model.compile(optimizer = \"...\", loss = \"...\", metrics = [\"accuracy\"])`  \n",
    "\n",
    "3. Обучить модель,вызвав - `model.fit(x = ..., y = ..., epochs = ..., batch_size = ...)`  \n",
    "\n",
    "4. Протестировать модель - `model.evaluate(x = ..., y = ...)`  \n",
    "\n",
    "Более подробно про `model.compile()`, `model.fit()`, `model.evaluate()` в официальной документации [Keras documentation](https://keras.io/models/model/)."
   ]
  },
  {
   "cell_type": "markdown",
   "metadata": {},
   "source": [
    "#### Step 1: Создание модели\n",
    "**Подсказка**:  \n",
    "`X_train.shape[1:]` как `input_shape`."
   ]
  },
  {
   "cell_type": "code",
   "execution_count": null,
   "metadata": {},
   "outputs": [],
   "source": [
    "### НАЧАЛО ВАШЕГО КОДА ### (1 line)\n",
    "happyModel = None\n",
    "### КОНЕЦ ВАШЕГО КОДА ###"
   ]
  },
  {
   "cell_type": "markdown",
   "metadata": {},
   "source": [
    "#### Step 2: Компиляция модели\n",
    "\n",
    "**Подсказка**:  \n",
    "Оптимизаторы - [optimizers](https://keras.io/optimizers/)  \n",
    "В лабораторной работе поставлена задача бинарной классификации.  Можно использовать функцию потерь `'binary_cross_entropy'` - [losses](https://keras.io/losses/)"
   ]
  },
  {
   "cell_type": "code",
   "execution_count": null,
   "metadata": {},
   "outputs": [],
   "source": [
    "### НАЧАЛО ВАШЕГО КОДА ### (1 строка кода)\n",
    "None\n",
    "### КОНЕЦ ВАШЕГО КОДА ###"
   ]
  },
  {
   "cell_type": "markdown",
   "metadata": {},
   "source": [
    "#### Step 3: Обучение модели\n",
    "\n",
    "**Подсказка**:  \n",
    "Используйте `'X_train'`, `'Y_train'` переменные.\n",
    "\n",
    "**Заметка**: Если вы снова запустите `fit()`, то `model` будет продолжать обучаться с уже изученными параметрами вместо их повторной инициализации."
   ]
  },
  {
   "cell_type": "code",
   "execution_count": null,
   "metadata": {},
   "outputs": [],
   "source": [
    "### НАЧАЛО ВАШЕГО КОДА ### (1 строка кода)\n",
    "None\n",
    "### КОНЕЦ ВАШЕГО КОДА ###"
   ]
  },
  {
   "cell_type": "markdown",
   "metadata": {},
   "source": [
    "#### Step 4: Оценка модели\n",
    "**Подсказка**:  \n",
    "Используйте `'X_test'` и `'Y_test'` переменные."
   ]
  },
  {
   "cell_type": "code",
   "execution_count": null,
   "metadata": {
    "scrolled": true
   },
   "outputs": [],
   "source": [
    "### НАЧАЛО ВАШЕГО КОДА ### (1 строка кода)\n",
    "preds = None\n",
    "### КОНЕЦ ВАШЕГО КОДА ###\n",
    "print()\n",
    "print (\"Loss = \" + str(preds[0]))\n",
    "print (\"Test Accuracy = \" + str(preds[1]))"
   ]
  },
  {
   "cell_type": "markdown",
   "metadata": {},
   "source": [
    "#### Ожидаемое качество\n",
    "Если функция `happyModel()` работает корректно, ее точность должна быть лучше, чем случайное угадывание (точность выше 50%).\n",
    "\n",
    "Чтобы дать вам точку сравнения, наша модель получает около **95% точности на тесте в 40 эпохах** (и 99% точности на обучении) с mini-batch размером 16 и оптимизатором \"adam\"."
   ]
  },
  {
   "cell_type": "markdown",
   "metadata": {},
   "source": [
    "#### Tips for improving your model\n",
    "\n",
    "If you have not yet achieved a very good accuracy (>= 80%), here are some things tips:\n",
    "\n",
    "- Use blocks of CONV->BATCHNORM->RELU such as:\n",
    "```python\n",
    "X = Conv2D(32, (3, 3), strides = (1, 1), name = 'conv0')(X)\n",
    "X = BatchNormalization(axis = 3, name = 'bn0')(X)\n",
    "X = Activation('relu')(X)\n",
    "```\n",
    "until your height and width dimensions are quite low and your number of channels quite large (≈32 for example).  \n",
    "You can then flatten the volume and use a fully-connected layer.\n",
    "- Use MAXPOOL after such blocks.  It will help you lower the dimension in height and width.\n",
    "- Change your optimizer. We find 'adam' works well. \n",
    "- If you get memory issues, lower your batch_size (e.g. 12 )\n",
    "- Run more epochs until you see the train accuracy no longer improves. \n",
    "\n",
    "**Note**: If you perform hyperparameter tuning on your model, the test set actually becomes a dev set, and your model might end up overfitting to the test (dev) set. Normally, you'll want separate dev and test sets.  The dev set is used for parameter tuning, and the test set is used once to estimate the model's performance in production.\n",
    "\n",
    "#### Советы по улучшению вашей модели\n",
    "\n",
    "Если вы еще не достигли очень хорошей точности (>=80%), вот некоторые советы:\n",
    "\n",
    "- Используйте блоки CONV->BATCHNORM->RELU, такие как:\n",
    "```python\n",
    "X = Conv2D(32, (3, 3), strides = (1, 1), name = 'conv0')(X)\n",
    "X = BatchNormalization(axis = 3, name = 'bn0')(X)\n",
    "X = Activation('relu')(X)\n",
    "```\n",
    "до тех пор, пока ваши размеры по высоте и ширине не станут совсем низкими, а количество каналов - большим (например, ≈32).Затем вы можете выровнять объем и использовать fully-connected layer.\n",
    "- Используйте MAXPOOL после таких блоков. Это поможет вам уменьшить размер по высоте и ширине.\n",
    "- Измените свой оптимизатор.\n",
    "- Если у вас возникли проблемы с памятью, уменьшите размер пакета (например, 12)\n",
    "- Запускайте больше эпох, пока не увидите, что точность на обучении больше не улучшается."
   ]
  },
  {
   "cell_type": "markdown",
   "metadata": {},
   "source": [
    "## 3 - Выводы"
   ]
  },
  {
   "cell_type": "markdown",
   "metadata": {},
   "source": [
    "## Ключевые моменты, которые нужно запомнить\n",
    "- Keras - это инструмент, который рекомендуется для быстрого прототипирования. Это позволяет быстро опробовать различные архитектуры моделей.\n",
    "- Помните четыре шага в Keras: \n",
    "1. Создавать \n",
    "2. Компилировать \n",
    "3. Fit/Train \n",
    "4. Evaluate/Test"
   ]
  },
  {
   "cell_type": "markdown",
   "metadata": {},
   "source": [
    "## 4 - Тестирование на своих изображениях"
   ]
  },
  {
   "cell_type": "code",
   "execution_count": null,
   "metadata": {},
   "outputs": [],
   "source": [
    "### НАЧАЛО ВАШЕГО КОДА ###\n",
    "img_path = 'images/my_image.jpg'\n",
    "### КОНЕЦ ВАШЕГО КОДА ###\n",
    "img = image.load_img(img_path, target_size=(64, 64))\n",
    "imshow(img)\n",
    "\n",
    "x = image.img_to_array(img)\n",
    "x = np.expand_dims(x, axis=0)\n",
    "x = preprocess_input(x)\n",
    "\n",
    "print(happyModel.predict(x))"
   ]
  },
  {
   "cell_type": "markdown",
   "metadata": {},
   "source": [
    "## 5 - Другие полезные функции\n",
    "\n",
    "Две другие основные функции Keras, которые вы найдете полезными:: \n",
    "- `model.summary()`: выводит сведения о ваших слоях в таблицу с размерами входов/выходов\n",
    "- `plot_model()`: строит ваш график в красивом макете. Вы даже можете сохранить его как \".png \" с помощью SVG()."
   ]
  },
  {
   "cell_type": "code",
   "execution_count": null,
   "metadata": {
    "scrolled": false
   },
   "outputs": [],
   "source": [
    "happyModel.summary()"
   ]
  },
  {
   "cell_type": "code",
   "execution_count": null,
   "metadata": {},
   "outputs": [],
   "source": [
    "plot_model(happyModel, to_file='HappyModel.png')\n",
    "SVG(model_to_dot(happyModel).create(prog='dot', format='svg'))"
   ]
  }
 ],
 "metadata": {
  "kernelspec": {
   "display_name": "Python 3",
   "language": "python",
   "name": "python3"
  },
  "language_info": {
   "codemirror_mode": {
    "name": "ipython",
    "version": 3
   },
   "file_extension": ".py",
   "mimetype": "text/x-python",
   "name": "python",
   "nbconvert_exporter": "python",
   "pygments_lexer": "ipython3",
   "version": "3.7.4"
  }
 },
 "nbformat": 4,
 "nbformat_minor": 2
}
